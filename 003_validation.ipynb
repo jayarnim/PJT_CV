{
 "cells": [
  {
   "cell_type": "markdown",
   "id": "1f919507",
   "metadata": {},
   "source": [
    "# Constants"
   ]
  },
  {
   "cell_type": "code",
   "execution_count": 8,
   "id": "f30a6150",
   "metadata": {},
   "outputs": [],
   "source": [
    "ROOT_DIR_TST = \"./RWF-2000/cached/test\"\n",
    "LABEL_MAP = {'Fight': 1, 'NonFight': 0}\n",
    "BATCH_SIZE = 4\n",
    "NUM_WORKERS = 4\n",
    "MODEL_NAME = \"best_rec\"\n",
    "THRESHOLD = 0.5"
   ]
  },
  {
   "cell_type": "markdown",
   "id": "36136cdf",
   "metadata": {},
   "source": [
    "# Packages"
   ]
  },
  {
   "cell_type": "code",
   "execution_count": 9,
   "id": "066b2a2e",
   "metadata": {},
   "outputs": [],
   "source": [
    "# !pip install fvcore\n",
    "# !pip install torchmetrics\n",
    "# !pip install opencv-python"
   ]
  },
  {
   "cell_type": "code",
   "execution_count": 10,
   "id": "7526c8f2",
   "metadata": {},
   "outputs": [],
   "source": [
    "from torch.utils.data import DataLoader\n",
    "from utils.video_dataset import VideoDataset\n",
    "import fight_detection\n",
    "import utils"
   ]
  },
  {
   "cell_type": "markdown",
   "id": "f5393862",
   "metadata": {},
   "source": [
    "# Data Preparation"
   ]
  },
  {
   "cell_type": "code",
   "execution_count": 11,
   "id": "f8a25b09",
   "metadata": {},
   "outputs": [],
   "source": [
    "tst_dataset = VideoDataset(\n",
    "    root_dir=ROOT_DIR_TST, \n",
    "    label_map=LABEL_MAP,\n",
    ")\n",
    "\n",
    "tst_loader = DataLoader(\n",
    "    dataset=tst_dataset, \n",
    "    batch_size=BATCH_SIZE, \n",
    "    shuffle=True, \n",
    "    num_workers=NUM_WORKERS,\n",
    ")"
   ]
  },
  {
   "cell_type": "markdown",
   "id": "197ca44a",
   "metadata": {},
   "source": [
    "# Load Model"
   ]
  },
  {
   "cell_type": "code",
   "execution_count": 12,
   "id": "2c5a64a7",
   "metadata": {},
   "outputs": [
    {
     "name": "stderr",
     "output_type": "stream",
     "text": [
      "Using cache found in /home/work/.cache/torch/hub/facebookresearch_pytorchvideo_main\n"
     ]
    }
   ],
   "source": [
    "PATH = f'./checkpoint/{MODEL_NAME}.pth'\n",
    "\n",
    "kwargs = dict(\n",
    "    ModelClass=fight_detection.model.FightDetection,\n",
    "    path=PATH,\n",
    ")\n",
    "\n",
    "model = utils.checkpoint.load(**kwargs)"
   ]
  },
  {
   "cell_type": "markdown",
   "id": "58895f61",
   "metadata": {},
   "source": [
    "# Prediction"
   ]
  },
  {
   "cell_type": "code",
   "execution_count": 13,
   "id": "4870186e",
   "metadata": {},
   "outputs": [],
   "source": [
    "kwargs = dict(\n",
    "    model=model,\n",
    "    threshold=THRESHOLD,\n",
    ")\n",
    "\n",
    "loop = fight_detection.loop.PredictionLoop(**kwargs)"
   ]
  },
  {
   "cell_type": "code",
   "execution_count": 14,
   "id": "5c9d7481",
   "metadata": {},
   "outputs": [
    {
     "name": "stderr",
     "output_type": "stream",
     "text": [
      "PREDICTION: 100%|██████████| 52/52 [00:11<00:00,  4.58it/s]\n"
     ]
    },
    {
     "name": "stdout",
     "output_type": "stream",
     "text": [
      "ACC:\t0.9134615659713745\n",
      "PRE:\t0.9300000071525574\n",
      "REC:\t0.8942307829856873\n",
      "F1:\t0.9117646813392639\n"
     ]
    },
    {
     "data": {
      "image/png": "[encoded data removed]",
      "text/plain": [
       "<Figure size 500x400 with 1 Axes>"
      ]
     },
     "metadata": {},
     "output_type": "display_data"
    }
   ],
   "source": [
    "loop.predict(tst_loader)"
   ]
  }
 ],
 "metadata": {
  "kernelspec": {
   "display_name": "Python 3",
   "language": "python",
   "name": "python3"
  },
  "language_info": {
   "codemirror_mode": {
    "name": "ipython",
    "version": 3
   },
   "file_extension": ".py",
   "mimetype": "text/x-python",
   "name": "python",
   "nbconvert_exporter": "python",
   "pygments_lexer": "ipython3",
   "version": "3.10.12"
  }
 },
 "nbformat": 4,
 "nbformat_minor": 5
}
