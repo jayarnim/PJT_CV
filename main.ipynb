{
 "cells": [
  {
   "cell_type": "markdown",
   "id": "e8490546",
   "metadata": {},
   "source": [
    "# Constants"
   ]
  },
  {
   "cell_type": "code",
   "execution_count": 1,
   "id": "74218978",
   "metadata": {},
   "outputs": [],
   "source": [
    "# DataLoader\n",
    "ROOT_DIR_TRN = \"RWF-2000/cached/train\"\n",
    "ROOT_DIR_VAL = \"RWF-2000/cached/val\"\n",
    "ROOT_DIR_TST = \"RWF-2000/cached/test\"\n",
    "LABEL_MAP = {'Fight': 1, 'NonFight': 0}\n",
    "BATCH_SIZE = 4\n",
    "NUM_WORKERS = 4\n",
    "\n",
    "# Model\n",
    "HIDDEN = [400, 256, 128, 64, 32]\n",
    "DROPOUT = 0.2\n",
    "\n",
    "# Loop\n",
    "LEARNING_RATE = 1e-4\n",
    "LAMBDA_ = 1e-2\n",
    "THRESHOLD = 0.5\n",
    "\n",
    "# Fit\n",
    "N_EPOCHS = 100\n",
    "PATIENCE = 5\n",
    "DELTA = 1e-3"
   ]
  },
  {
   "cell_type": "markdown",
   "id": "6c360096",
   "metadata": {},
   "source": [
    "# Packages"
   ]
  },
  {
   "cell_type": "code",
   "execution_count": 2,
   "id": "d5841d9f",
   "metadata": {},
   "outputs": [
    {
     "name": "stdout",
     "output_type": "stream",
     "text": [
      "Defaulting to user installation because normal site-packages is not writeable\n",
      "Requirement already satisfied: fvcore in /home/work/.local/lib/python3.10/site-packages (0.1.5.post20221221)\n",
      "Requirement already satisfied: numpy in /usr/local/lib/python3.10/dist-packages (from fvcore) (1.23.5)\n",
      "Requirement already satisfied: yacs>=0.1.6 in /home/work/.local/lib/python3.10/site-packages (from fvcore) (0.1.8)\n",
      "Requirement already satisfied: pyyaml>=5.1 in /usr/local/lib/python3.10/dist-packages (from fvcore) (6.0.1)\n",
      "Requirement already satisfied: tqdm in /usr/local/lib/python3.10/dist-packages (from fvcore) (4.66.1)\n",
      "Requirement already satisfied: termcolor>=1.1 in /usr/local/lib/python3.10/dist-packages (from fvcore) (2.4.0)\n",
      "Requirement already satisfied: Pillow in /usr/local/lib/python3.10/dist-packages (from fvcore) (9.4.0)\n",
      "Requirement already satisfied: tabulate in /usr/local/lib/python3.10/dist-packages (from fvcore) (0.9.0)\n",
      "Requirement already satisfied: iopath>=0.1.7 in /home/work/.local/lib/python3.10/site-packages (from fvcore) (0.1.10)\n",
      "Requirement already satisfied: typing-extensions in /usr/local/lib/python3.10/dist-packages (from iopath>=0.1.7->fvcore) (4.9.0)\n",
      "Requirement already satisfied: portalocker in /home/work/.local/lib/python3.10/site-packages (from iopath>=0.1.7->fvcore) (3.1.1)\n",
      "Defaulting to user installation because normal site-packages is not writeable\n",
      "Requirement already satisfied: torchmetrics in /home/work/.local/lib/python3.10/site-packages (1.7.1)\n",
      "Requirement already satisfied: numpy>1.20.0 in /usr/local/lib/python3.10/dist-packages (from torchmetrics) (1.23.5)\n",
      "Requirement already satisfied: packaging>17.1 in /usr/local/lib/python3.10/dist-packages (from torchmetrics) (23.2)\n",
      "Requirement already satisfied: torch>=2.0.0 in /usr/local/lib/python3.10/dist-packages (from torchmetrics) (2.1.0+cu121)\n",
      "Requirement already satisfied: lightning-utilities>=0.8.0 in /home/work/.local/lib/python3.10/site-packages (from torchmetrics) (0.14.3)\n",
      "Requirement already satisfied: setuptools in /usr/local/lib/python3.10/dist-packages (from lightning-utilities>=0.8.0->torchmetrics) (67.7.2)\n",
      "Requirement already satisfied: typing_extensions in /usr/local/lib/python3.10/dist-packages (from lightning-utilities>=0.8.0->torchmetrics) (4.9.0)\n",
      "Requirement already satisfied: filelock in /usr/local/lib/python3.10/dist-packages (from torch>=2.0.0->torchmetrics) (3.11.0)\n",
      "Requirement already satisfied: sympy in /usr/local/lib/python3.10/dist-packages (from torch>=2.0.0->torchmetrics) (1.12)\n",
      "Requirement already satisfied: networkx in /usr/local/lib/python3.10/dist-packages (from torch>=2.0.0->torchmetrics) (3.2.1)\n",
      "Requirement already satisfied: jinja2 in /usr/local/lib/python3.10/dist-packages (from torch>=2.0.0->torchmetrics) (3.1.2)\n",
      "Requirement already satisfied: fsspec in /usr/local/lib/python3.10/dist-packages (from torch>=2.0.0->torchmetrics) (2023.6.0)\n",
      "Requirement already satisfied: triton==2.1.0 in /usr/local/lib/python3.10/dist-packages (from torch>=2.0.0->torchmetrics) (2.1.0)\n",
      "Requirement already satisfied: MarkupSafe>=2.0 in /usr/local/lib/python3.10/dist-packages (from jinja2->torch>=2.0.0->torchmetrics) (2.1.3)\n",
      "Requirement already satisfied: mpmath>=0.19 in /usr/local/lib/python3.10/dist-packages (from sympy->torch>=2.0.0->torchmetrics) (1.3.0)\n",
      "Defaulting to user installation because normal site-packages is not writeable\n",
      "Requirement already satisfied: opencv-python in /usr/local/lib/python3.10/dist-packages (4.8.0.76)\n",
      "Requirement already satisfied: numpy>=1.21.2 in /usr/local/lib/python3.10/dist-packages (from opencv-python) (1.23.5)\n"
     ]
    }
   ],
   "source": [
    "!pip install fvcore\n",
    "!pip install torchmetrics\n",
    "!pip install opencv-python"
   ]
  },
  {
   "cell_type": "code",
   "execution_count": 3,
   "id": "791e80de",
   "metadata": {},
   "outputs": [],
   "source": [
    "from torch.utils.data import DataLoader\n",
    "from utils.video_dataset import VideoDataset\n",
    "import fight_detection"
   ]
  },
  {
   "cell_type": "markdown",
   "id": "add996ae",
   "metadata": {},
   "source": [
    "# Video Preprocessing"
   ]
  },
  {
   "cell_type": "code",
   "execution_count": 4,
   "id": "5e42f0d7",
   "metadata": {},
   "outputs": [],
   "source": [
    "# from utils.video_processor import cache_videos"
   ]
  },
  {
   "cell_type": "code",
   "execution_count": 5,
   "id": "02699882",
   "metadata": {},
   "outputs": [],
   "source": [
    "# # TRN\n",
    "\n",
    "# SOURCE_DIR = \"./RWF-2000/data/train\"\n",
    "# TARGET_DIR = \"./RWF-2000/cached/train\"\n",
    "\n",
    "# cache_videos(\n",
    "#     source_dir=SOURCE_DIR,\n",
    "#     target_dir=TARGET_DIR,\n",
    "# )"
   ]
  },
  {
   "cell_type": "code",
   "execution_count": 6,
   "id": "be39041d",
   "metadata": {},
   "outputs": [],
   "source": [
    "# # VAL\n",
    "\n",
    "# SOURCE_DIR = \"./RWF-2000/data/val\"\n",
    "# TARGET_DIR = \"./RWF-2000/cached/val\"\n",
    "\n",
    "# cache_videos(\n",
    "#     source_dir=SOURCE_DIR,\n",
    "#     target_dir=TARGET_DIR,\n",
    "# )"
   ]
  },
  {
   "cell_type": "code",
   "execution_count": 7,
   "id": "aff6bd01",
   "metadata": {},
   "outputs": [],
   "source": [
    "# # TST\n",
    "\n",
    "# SOURCE_DIR = \"./RWF-2000/data/test\"\n",
    "# TARGET_DIR = \"./RWF-2000/cached/test\"\n",
    "\n",
    "# cache_videos(\n",
    "#     source_dir=SOURCE_DIR,\n",
    "#     target_dir=TARGET_DIR,\n",
    "# )"
   ]
  },
  {
   "cell_type": "markdown",
   "id": "385a50a1",
   "metadata": {},
   "source": [
    "# Data Preparation"
   ]
  },
  {
   "cell_type": "code",
   "execution_count": 8,
   "id": "8014ecc7",
   "metadata": {},
   "outputs": [],
   "source": [
    "# TRN\n",
    "\n",
    "trn_dataset = VideoDataset(\n",
    "    root_dir=ROOT_DIR_TRN, \n",
    "    label_map=LABEL_MAP\n",
    ")\n",
    "\n",
    "trn_loader = DataLoader(\n",
    "    dataset=trn_dataset, \n",
    "    batch_size=BATCH_SIZE, \n",
    "    shuffle=True, \n",
    "    num_workers=NUM_WORKERS\n",
    ")"
   ]
  },
  {
   "cell_type": "code",
   "execution_count": 9,
   "id": "928b163c",
   "metadata": {},
   "outputs": [],
   "source": [
    "# VAL\n",
    "\n",
    "val_dataset = VideoDataset(\n",
    "    root_dir=ROOT_DIR_VAL, \n",
    "    label_map=LABEL_MAP\n",
    ")\n",
    "\n",
    "val_loader = DataLoader(\n",
    "    dataset=val_dataset, \n",
    "    batch_size=BATCH_SIZE, \n",
    "    shuffle=True, \n",
    "    num_workers=NUM_WORKERS\n",
    ")"
   ]
  },
  {
   "cell_type": "code",
   "execution_count": 10,
   "id": "3d48b7f6",
   "metadata": {},
   "outputs": [],
   "source": [
    "# TST\n",
    "\n",
    "tst_dataset = VideoDataset(\n",
    "    root_dir=ROOT_DIR_TST, \n",
    "    label_map=LABEL_MAP\n",
    ")\n",
    "\n",
    "tst_loader = DataLoader(\n",
    "    dataset=val_dataset, \n",
    "    batch_size=BATCH_SIZE, \n",
    "    shuffle=True, \n",
    "    num_workers=NUM_WORKERS\n",
    ")"
   ]
  },
  {
   "cell_type": "markdown",
   "id": "eb1b1f11",
   "metadata": {},
   "source": [
    "# Training"
   ]
  },
  {
   "cell_type": "code",
   "execution_count": 11,
   "id": "b5bc7c92",
   "metadata": {},
   "outputs": [
    {
     "name": "stderr",
     "output_type": "stream",
     "text": [
      "Using cache found in /home/work/.cache/torch/hub/facebookresearch_pytorchvideo_main\n"
     ]
    }
   ],
   "source": [
    "kwargs = dict(\n",
    "    hidden=HIDDEN,\n",
    "    dropout=DROPOUT,\n",
    ")\n",
    "\n",
    "model = fight_detection.model.FightDetection(**kwargs)"
   ]
  },
  {
   "cell_type": "code",
   "execution_count": 12,
   "id": "7712e594",
   "metadata": {},
   "outputs": [],
   "source": [
    "kwargs = dict(\n",
    "    model=model,\n",
    "    lr=LEARNING_RATE,\n",
    "    lambda_=LAMBDA_,\n",
    "    threshold=THRESHOLD,\n",
    ")\n",
    "\n",
    "loop = fight_detection.loop.Loop(**kwargs)"
   ]
  },
  {
   "cell_type": "code",
   "execution_count": null,
   "id": "86c13e06",
   "metadata": {},
   "outputs": [
    {
     "name": "stdout",
     "output_type": "stream",
     "text": [
      "EPOCH 1 START ---->>>>\n"
     ]
    },
    {
     "name": "stderr",
     "output_type": "stream",
     "text": [
      "Epoch 1/100 TRN: 100%|██████████| 400/400 [01:31<00:00,  4.39it/s]\n"
     ]
    },
    {
     "name": "stdout",
     "output_type": "stream",
     "text": [
      "TRN LOSS: 0.5985\n"
     ]
    },
    {
     "name": "stderr",
     "output_type": "stream",
     "text": [
      "Epoch 1/100 VAL: 100%|██████████| 48/48 [00:08<00:00,  5.97it/s]\n"
     ]
    },
    {
     "name": "stdout",
     "output_type": "stream",
     "text": [
      "VAL LOSS: 0.5569\n"
     ]
    },
    {
     "name": "stderr",
     "output_type": "stream",
     "text": [
      "Epoch 1/100 TST: 100%|██████████| 48/48 [00:08<00:00,  5.96it/s]\n"
     ]
    },
    {
     "name": "stdout",
     "output_type": "stream",
     "text": [
      "CURRENT SCORE: 0.7448\tBEST SCORE: 0.0000(0)\n"
     ]
    },
    {
     "name": "stderr",
     "output_type": "stream",
     "text": [
      "Epoch 2/100 TRN: 100%|██████████| 400/400 [01:07<00:00,  5.89it/s]\n"
     ]
    },
    {
     "name": "stdout",
     "output_type": "stream",
     "text": [
      "TRN LOSS: 0.4912\n"
     ]
    },
    {
     "name": "stderr",
     "output_type": "stream",
     "text": [
      "Epoch 2/100 VAL: 100%|██████████| 48/48 [00:08<00:00,  5.92it/s]\n"
     ]
    },
    {
     "name": "stdout",
     "output_type": "stream",
     "text": [
      "VAL LOSS: 0.5249\n"
     ]
    },
    {
     "name": "stderr",
     "output_type": "stream",
     "text": [
      "Epoch 2/100 TST: 100%|██████████| 48/48 [00:07<00:00,  6.15it/s]\n"
     ]
    },
    {
     "name": "stdout",
     "output_type": "stream",
     "text": [
      "CURRENT SCORE: 0.7604\tBEST SCORE: 0.7448(1)\n"
     ]
    },
    {
     "name": "stderr",
     "output_type": "stream",
     "text": [
      "Epoch 3/100 TRN: 100%|██████████| 400/400 [01:08<00:00,  5.87it/s]\n"
     ]
    },
    {
     "name": "stdout",
     "output_type": "stream",
     "text": [
      "TRN LOSS: 0.4522\n"
     ]
    },
    {
     "name": "stderr",
     "output_type": "stream",
     "text": [
      "Epoch 3/100 VAL: 100%|██████████| 48/48 [00:08<00:00,  5.90it/s]\n"
     ]
    },
    {
     "name": "stdout",
     "output_type": "stream",
     "text": [
      "VAL LOSS: 0.5064\n"
     ]
    },
    {
     "name": "stderr",
     "output_type": "stream",
     "text": [
      "Epoch 3/100 TST: 100%|██████████| 48/48 [00:07<00:00,  6.02it/s]\n"
     ]
    },
    {
     "name": "stdout",
     "output_type": "stream",
     "text": [
      "CURRENT SCORE: 0.7917\tBEST SCORE: 0.7604(2)\n"
     ]
    },
    {
     "name": "stderr",
     "output_type": "stream",
     "text": [
      "Epoch 4/100 TRN:  40%|███▉      | 158/400 [00:26<00:40,  6.03it/s]"
     ]
    }
   ],
   "source": [
    "kwargs = dict(\n",
    "    trn_loader=trn_loader,\n",
    "    val_loader=val_loader,\n",
    "    tst_loader=val_loader,\n",
    "    n_epochs=N_EPOCHS,\n",
    "    patience=10,\n",
    "    delta=DELTA,\n",
    ")\n",
    "\n",
    "history = loop.fit(**kwargs)"
   ]
  }
 ],
 "metadata": {
  "kernelspec": {
   "display_name": "Python 3",
   "language": "python",
   "name": "python3"
  },
  "language_info": {
   "codemirror_mode": {
    "name": "ipython",
    "version": 3
   },
   "file_extension": ".py",
   "mimetype": "text/x-python",
   "name": "python",
   "nbconvert_exporter": "python",
   "pygments_lexer": "ipython3",
   "version": "3.10.12"
  }
 },
 "nbformat": 4,
 "nbformat_minor": 5
}
