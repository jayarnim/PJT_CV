{
 "cells": [
  {
   "cell_type": "markdown",
   "id": "e8490546",
   "metadata": {},
   "source": [
    "# Constants"
   ]
  },
  {
   "cell_type": "code",
   "execution_count": 1,
   "id": "74218978",
   "metadata": {},
   "outputs": [],
   "source": [
    "# DataLoader\n",
    "ROOT_DIR_TRN = \"RWF-2000/cached/train\"\n",
    "ROOT_DIR_VAL = \"RWF-2000/cached/val\"\n",
    "LABEL_MAP = {'Fight': 1, 'NonFight': 0}\n",
    "BATCH_SIZE = 4\n",
    "NUM_WORKERS = 4\n",
    "\n",
    "# Model\n",
    "HIDDEN = [2304, 2048, 1024, 512, 256]\n",
    "DROPOUT = 0.2\n",
    "\n",
    "# Loop\n",
    "LEARNING_RATE = 1e-4\n",
    "LAMBDA_ = 1e-2\n",
    "THRESHOLD = 0.5\n",
    "\n",
    "# Fit\n",
    "N_EPOCHS = 100\n",
    "PATIENCE = 5\n",
    "DELTA = 1e-3"
   ]
  },
  {
   "cell_type": "markdown",
   "id": "6c360096",
   "metadata": {},
   "source": [
    "# Packages"
   ]
  },
  {
   "cell_type": "code",
   "execution_count": 2,
   "id": "d5841d9f",
   "metadata": {},
   "outputs": [],
   "source": [
    "# !pip install fvcore\n",
    "# !pip install torchmetrics\n",
    "# !pip install opencv-python"
   ]
  },
  {
   "cell_type": "code",
   "execution_count": 3,
   "id": "791e80de",
   "metadata": {},
   "outputs": [],
   "source": [
    "from torch.utils.data import DataLoader\n",
    "from utils.video_dataset import VideoDataset\n",
    "import fight_detection"
   ]
  },
  {
   "cell_type": "markdown",
   "id": "add996ae",
   "metadata": {},
   "source": [
    "# Video Preprocessing"
   ]
  },
  {
   "cell_type": "code",
   "execution_count": 4,
   "id": "5e42f0d7",
   "metadata": {},
   "outputs": [],
   "source": [
    "# from utils.video_processor import cache_videos"
   ]
  },
  {
   "cell_type": "code",
   "execution_count": 5,
   "id": "02699882",
   "metadata": {},
   "outputs": [],
   "source": [
    "# # TRN\n",
    "\n",
    "# SOURCE_DIR = \"./RWF-2000/data/train\"\n",
    "# TARGET_DIR = \"./RWF-2000/cached/train\"\n",
    "\n",
    "# cache_videos(\n",
    "#     source_dir=SOURCE_DIR,\n",
    "#     target_dir=TARGET_DIR,\n",
    "# )"
   ]
  },
  {
   "cell_type": "code",
   "execution_count": 6,
   "id": "be39041d",
   "metadata": {},
   "outputs": [],
   "source": [
    "# # VAL\n",
    "\n",
    "# SOURCE_DIR = \"./RWF-2000/data/val\"\n",
    "# TARGET_DIR = \"./RWF-2000/cached/val\"\n",
    "\n",
    "# cache_videos(\n",
    "#     source_dir=SOURCE_DIR,\n",
    "#     target_dir=TARGET_DIR,\n",
    "# )"
   ]
  },
  {
   "cell_type": "markdown",
   "id": "385a50a1",
   "metadata": {},
   "source": [
    "# Data Preparation"
   ]
  },
  {
   "cell_type": "code",
   "execution_count": 7,
   "id": "8014ecc7",
   "metadata": {},
   "outputs": [],
   "source": [
    "# TRN\n",
    "\n",
    "trn_dataset = VideoDataset(\n",
    "    root_dir=ROOT_DIR_TRN, \n",
    "    label_map=LABEL_MAP\n",
    ")\n",
    "\n",
    "trn_loader = DataLoader(\n",
    "    dataset=trn_dataset, \n",
    "    batch_size=BATCH_SIZE, \n",
    "    shuffle=True, \n",
    "    num_workers=NUM_WORKERS\n",
    ")"
   ]
  },
  {
   "cell_type": "code",
   "execution_count": 8,
   "id": "928b163c",
   "metadata": {},
   "outputs": [],
   "source": [
    "# VAL\n",
    "\n",
    "val_dataset = VideoDataset(\n",
    "    root_dir=ROOT_DIR_TRN, \n",
    "    label_map=LABEL_MAP\n",
    ")\n",
    "\n",
    "val_loader = DataLoader(\n",
    "    dataset=val_dataset, \n",
    "    batch_size=BATCH_SIZE, \n",
    "    shuffle=True, \n",
    "    num_workers=NUM_WORKERS\n",
    ")"
   ]
  },
  {
   "cell_type": "markdown",
   "id": "eb1b1f11",
   "metadata": {},
   "source": [
    "# Training"
   ]
  },
  {
   "cell_type": "code",
   "execution_count": 9,
   "id": "b5bc7c92",
   "metadata": {},
   "outputs": [
    {
     "name": "stderr",
     "output_type": "stream",
     "text": [
      "Using cache found in C:\\Users\\jayar/.cache\\torch\\hub\\facebookresearch_pytorchvideo_main\n"
     ]
    }
   ],
   "source": [
    "kwargs = dict(\n",
    "    hidden=HIDDEN,\n",
    "    dropout=DROPOUT,\n",
    ")\n",
    "\n",
    "model = fight_detection.model.FightDetection()"
   ]
  },
  {
   "cell_type": "code",
   "execution_count": 10,
   "id": "7712e594",
   "metadata": {},
   "outputs": [],
   "source": [
    "kwargs = dict(\n",
    "    model=model,\n",
    "    lr=LEARNING_RATE,\n",
    "    lambda_=LAMBDA_,\n",
    "    threshold=THRESHOLD,\n",
    ")\n",
    "\n",
    "loop = fight_detection.loop.Loop(**kwargs)"
   ]
  },
  {
   "cell_type": "code",
   "execution_count": null,
   "id": "86c13e06",
   "metadata": {},
   "outputs": [
    {
     "name": "stdout",
     "output_type": "stream",
     "text": [
      "EPOCH 1 START ---->>>>\n"
     ]
    },
    {
     "name": "stderr",
     "output_type": "stream",
     "text": [
      "Epoch 1/100 TRN: 100%|██████████| 394/394 [01:00<00:00,  6.52it/s]\n"
     ]
    },
    {
     "name": "stdout",
     "output_type": "stream",
     "text": [
      "TRN LOSS: 0.5345\n"
     ]
    },
    {
     "name": "stderr",
     "output_type": "stream",
     "text": [
      "Epoch 1/100 VAL: 100%|██████████| 394/394 [00:51<00:00,  7.60it/s]\n"
     ]
    },
    {
     "name": "stdout",
     "output_type": "stream",
     "text": [
      "VAL LOSS: 0.3670\n"
     ]
    },
    {
     "name": "stderr",
     "output_type": "stream",
     "text": [
      "Epoch 1/100 TST: 100%|██████████| 394/394 [01:06<00:00,  5.97it/s]\n"
     ]
    },
    {
     "name": "stdout",
     "output_type": "stream",
     "text": [
      "CURRENT SCORE: 0.8500\tBEST SCORE: 0.0000(0)\n"
     ]
    },
    {
     "name": "stderr",
     "output_type": "stream",
     "text": [
      "Epoch 2/100 TRN: 100%|██████████| 394/394 [00:54<00:00,  7.27it/s]\n"
     ]
    },
    {
     "name": "stdout",
     "output_type": "stream",
     "text": [
      "TRN LOSS: 0.4527\n"
     ]
    },
    {
     "name": "stderr",
     "output_type": "stream",
     "text": [
      "Epoch 2/100 VAL: 100%|██████████| 394/394 [00:51<00:00,  7.66it/s]\n"
     ]
    },
    {
     "name": "stdout",
     "output_type": "stream",
     "text": [
      "VAL LOSS: 0.4762\n"
     ]
    },
    {
     "name": "stderr",
     "output_type": "stream",
     "text": [
      "Epoch 2/100 TST: 100%|██████████| 394/394 [01:04<00:00,  6.07it/s]\n"
     ]
    },
    {
     "name": "stdout",
     "output_type": "stream",
     "text": [
      "CURRENT SCORE: 0.7978\tBEST SCORE: 0.8500(1)\n"
     ]
    },
    {
     "name": "stderr",
     "output_type": "stream",
     "text": [
      "Epoch 3/100 TRN: 100%|██████████| 394/394 [00:53<00:00,  7.39it/s]\n"
     ]
    },
    {
     "name": "stdout",
     "output_type": "stream",
     "text": [
      "TRN LOSS: 0.4243\n"
     ]
    },
    {
     "name": "stderr",
     "output_type": "stream",
     "text": [
      "Epoch 3/100 VAL: 100%|██████████| 394/394 [00:57<00:00,  6.84it/s]\n"
     ]
    },
    {
     "name": "stdout",
     "output_type": "stream",
     "text": [
      "VAL LOSS: 0.3167\n"
     ]
    },
    {
     "name": "stderr",
     "output_type": "stream",
     "text": [
      "Epoch 3/100 TST: 100%|██████████| 394/394 [01:04<00:00,  6.11it/s]\n"
     ]
    },
    {
     "name": "stdout",
     "output_type": "stream",
     "text": [
      "CURRENT SCORE: 0.8671\tBEST SCORE: 0.8500(1)\n"
     ]
    },
    {
     "name": "stderr",
     "output_type": "stream",
     "text": [
      "Epoch 4/100 TRN: 100%|██████████| 394/394 [00:53<00:00,  7.39it/s]\n"
     ]
    },
    {
     "name": "stdout",
     "output_type": "stream",
     "text": [
      "TRN LOSS: 0.4004\n"
     ]
    },
    {
     "name": "stderr",
     "output_type": "stream",
     "text": [
      "Epoch 4/100 VAL: 100%|██████████| 394/394 [00:50<00:00,  7.76it/s]\n"
     ]
    },
    {
     "name": "stdout",
     "output_type": "stream",
     "text": [
      "VAL LOSS: 0.3168\n"
     ]
    },
    {
     "name": "stderr",
     "output_type": "stream",
     "text": [
      "Epoch 4/100 TST: 100%|██████████| 394/394 [01:05<00:00,  6.04it/s]\n"
     ]
    },
    {
     "name": "stdout",
     "output_type": "stream",
     "text": [
      "CURRENT SCORE: 0.8582\tBEST SCORE: 0.8671(3)\n"
     ]
    },
    {
     "name": "stderr",
     "output_type": "stream",
     "text": [
      "Epoch 5/100 TRN: 100%|██████████| 394/394 [00:56<00:00,  6.91it/s]\n"
     ]
    },
    {
     "name": "stdout",
     "output_type": "stream",
     "text": [
      "TRN LOSS: 0.3838\n"
     ]
    },
    {
     "name": "stderr",
     "output_type": "stream",
     "text": [
      "Epoch 5/100 VAL: 100%|██████████| 394/394 [01:01<00:00,  6.38it/s]\n"
     ]
    },
    {
     "name": "stdout",
     "output_type": "stream",
     "text": [
      "VAL LOSS: 0.3089\n"
     ]
    },
    {
     "name": "stderr",
     "output_type": "stream",
     "text": [
      "Epoch 5/100 TST: 100%|██████████| 394/394 [01:15<00:00,  5.23it/s]\n"
     ]
    },
    {
     "name": "stdout",
     "output_type": "stream",
     "text": [
      "CURRENT SCORE: 0.8741\tBEST SCORE: 0.8671(3)\n"
     ]
    },
    {
     "name": "stderr",
     "output_type": "stream",
     "text": [
      "Epoch 6/100 TRN: 100%|██████████| 394/394 [00:56<00:00,  6.96it/s]\n"
     ]
    },
    {
     "name": "stdout",
     "output_type": "stream",
     "text": [
      "TRN LOSS: 0.3763\n"
     ]
    },
    {
     "name": "stderr",
     "output_type": "stream",
     "text": [
      "Epoch 6/100 VAL: 100%|██████████| 394/394 [00:50<00:00,  7.78it/s]\n"
     ]
    },
    {
     "name": "stdout",
     "output_type": "stream",
     "text": [
      "VAL LOSS: 0.2740\n"
     ]
    },
    {
     "name": "stderr",
     "output_type": "stream",
     "text": [
      "Epoch 6/100 TST: 100%|██████████| 394/394 [01:04<00:00,  6.13it/s]\n"
     ]
    },
    {
     "name": "stdout",
     "output_type": "stream",
     "text": [
      "CURRENT SCORE: 0.8900\tBEST SCORE: 0.8741(5)\n"
     ]
    },
    {
     "name": "stderr",
     "output_type": "stream",
     "text": [
      "Epoch 7/100 TRN: 100%|██████████| 394/394 [00:52<00:00,  7.45it/s]\n"
     ]
    },
    {
     "name": "stdout",
     "output_type": "stream",
     "text": [
      "TRN LOSS: 0.3669\n"
     ]
    },
    {
     "name": "stderr",
     "output_type": "stream",
     "text": [
      "Epoch 7/100 VAL: 100%|██████████| 394/394 [00:51<00:00,  7.66it/s]\n"
     ]
    },
    {
     "name": "stdout",
     "output_type": "stream",
     "text": [
      "VAL LOSS: 0.2909\n"
     ]
    },
    {
     "name": "stderr",
     "output_type": "stream",
     "text": [
      "Epoch 7/100 TST: 100%|██████████| 394/394 [01:06<00:00,  5.94it/s]\n"
     ]
    },
    {
     "name": "stdout",
     "output_type": "stream",
     "text": [
      "CURRENT SCORE: 0.8805\tBEST SCORE: 0.8900(6)\n"
     ]
    },
    {
     "name": "stderr",
     "output_type": "stream",
     "text": [
      "Epoch 8/100 TRN: 100%|██████████| 394/394 [01:01<00:00,  6.38it/s]\n"
     ]
    },
    {
     "name": "stdout",
     "output_type": "stream",
     "text": [
      "TRN LOSS: 0.3858\n"
     ]
    },
    {
     "name": "stderr",
     "output_type": "stream",
     "text": [
      "Epoch 8/100 VAL: 100%|██████████| 394/394 [00:54<00:00,  7.26it/s]\n"
     ]
    },
    {
     "name": "stdout",
     "output_type": "stream",
     "text": [
      "VAL LOSS: 0.3173\n"
     ]
    },
    {
     "name": "stderr",
     "output_type": "stream",
     "text": [
      "Epoch 8/100 TST: 100%|██████████| 394/394 [01:06<00:00,  5.95it/s]\n"
     ]
    },
    {
     "name": "stdout",
     "output_type": "stream",
     "text": [
      "CURRENT SCORE: 0.8868\tBEST SCORE: 0.8900(6)\n"
     ]
    },
    {
     "name": "stderr",
     "output_type": "stream",
     "text": [
      "Epoch 9/100 TRN:  62%|██████▏   | 245/394 [00:37<00:29,  5.01it/s]"
     ]
    }
   ],
   "source": [
    "kwargs = dict(\n",
    "    trn_loader=trn_loader,\n",
    "    val_loader=val_loader,\n",
    "    tst_loader=val_loader,\n",
    "    n_epochs=N_EPOCHS,\n",
    "    patience=PATIENCE,\n",
    "    delta=DELTA,\n",
    ")\n",
    "\n",
    "history = loop.fit(**kwargs)"
   ]
  }
 ],
 "metadata": {
  "kernelspec": {
   "display_name": "Python 3",
   "language": "python",
   "name": "python3"
  },
  "language_info": {
   "codemirror_mode": {
    "name": "ipython",
    "version": 3
   },
   "file_extension": ".py",
   "mimetype": "text/x-python",
   "name": "python",
   "nbconvert_exporter": "python",
   "pygments_lexer": "ipython3",
   "version": "3.11.5"
  }
 },
 "nbformat": 4,
 "nbformat_minor": 5
}
