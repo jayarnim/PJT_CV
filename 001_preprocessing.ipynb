{
 "cells": [
  {
   "cell_type": "code",
   "execution_count": null,
   "metadata": {},
   "outputs": [],
   "source": [
    "# !pip install opencv-python"
   ]
  },
  {
   "cell_type": "code",
   "execution_count": null,
   "metadata": {},
   "outputs": [],
   "source": [
    "from utils.video_processor import cache_videos"
   ]
  },
  {
   "cell_type": "code",
   "execution_count": null,
   "metadata": {},
   "outputs": [],
   "source": [
    "# TRN\n",
    "\n",
    "SOURCE_DIR = \"./RWF-2000/data/train\"\n",
    "TARGET_DIR = \"./RWF-2000/cached/train\"\n",
    "\n",
    "cache_videos(\n",
    "    source_dir=SOURCE_DIR,\n",
    "    target_dir=TARGET_DIR,\n",
    ")"
   ]
  },
  {
   "cell_type": "code",
   "execution_count": null,
   "metadata": {},
   "outputs": [],
   "source": [
    "# VAL\n",
    "\n",
    "SOURCE_DIR = \"./RWF-2000/data/val\"\n",
    "TARGET_DIR = \"./RWF-2000/cached/val\"\n",
    "\n",
    "cache_videos(\n",
    "    source_dir=SOURCE_DIR,\n",
    "    target_dir=TARGET_DIR,\n",
    ")"
   ]
  },
  {
   "cell_type": "code",
   "execution_count": null,
   "metadata": {},
   "outputs": [],
   "source": [
    "# TST\n",
    "\n",
    "SOURCE_DIR = \"./RWF-2000/data/test\"\n",
    "TARGET_DIR = \"./RWF-2000/cached/test\"\n",
    "\n",
    "cache_videos(\n",
    "    source_dir=SOURCE_DIR,\n",
    "    target_dir=TARGET_DIR,\n",
    ")"
   ]
  }
 ],
 "metadata": {
  "language_info": {
   "name": "python"
  },
  "orig_nbformat": 4
 },
 "nbformat": 4,
 "nbformat_minor": 2
}
