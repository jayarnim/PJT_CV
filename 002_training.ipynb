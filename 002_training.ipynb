{
 "cells": [
  {
   "cell_type": "markdown",
   "id": "e8490546",
   "metadata": {},
   "source": [
    "# Constants"
   ]
  },
  {
   "cell_type": "code",
   "execution_count": 1,
   "id": "74218978",
   "metadata": {},
   "outputs": [],
   "source": [
    "# DataLoader\n",
    "ROOT_DIR_TRN = \"./RWF-2000/cached/train\"\n",
    "ROOT_DIR_VAL = \"./RWF-2000/cached/val\"\n",
    "ROOT_DIR_TST = \"./RWF-2000/cached/test\"\n",
    "LABEL_MAP = {'Fight': 1, 'NonFight': 0}\n",
    "BATCH_SIZE = 4\n",
    "NUM_WORKERS = 4\n",
    "\n",
    "# Model\n",
    "HIDDEN = [2304, 1024, 512, 256, 128]\n",
    "DROPOUT = 0.5\n",
    "\n",
    "# Loop\n",
    "LEARNING_RATE = 1e-4\n",
    "LAMBDA_ = 1e-2\n",
    "THRESHOLD = 0.5\n",
    "\n",
    "# Fit\n",
    "N_EPOCHS = 100\n",
    "PATIENCE = 10\n",
    "DELTA = 1e-3\n",
    "\n",
    "# etc.\n",
    "MODEL_NAME = \"best_rec_2\""
   ]
  },
  {
   "cell_type": "markdown",
   "id": "6c360096",
   "metadata": {},
   "source": [
    "# Packages"
   ]
  },
  {
   "cell_type": "code",
   "execution_count": 2,
   "id": "d5841d9f",
   "metadata": {},
   "outputs": [],
   "source": [
    "# !pip install fvcore\n",
    "# !pip install torchmetrics\n",
    "# !pip install opencv-python"
   ]
  },
  {
   "cell_type": "code",
   "execution_count": 3,
   "id": "791e80de",
   "metadata": {},
   "outputs": [],
   "source": [
    "from torch.utils.data import DataLoader\n",
    "from utils.video_dataset import VideoDataset\n",
    "import fight_detection\n",
    "import utils"
   ]
  },
  {
   "cell_type": "markdown",
   "id": "385a50a1",
   "metadata": {},
   "source": [
    "# Data Preparation"
   ]
  },
  {
   "cell_type": "code",
   "execution_count": 4,
   "id": "8014ecc7",
   "metadata": {},
   "outputs": [],
   "source": [
    "# TRN\n",
    "\n",
    "trn_dataset = VideoDataset(\n",
    "    root_dir=ROOT_DIR_TRN, \n",
    "    label_map=LABEL_MAP,\n",
    ")\n",
    "\n",
    "trn_loader = DataLoader(\n",
    "    dataset=trn_dataset, \n",
    "    batch_size=BATCH_SIZE, \n",
    "    shuffle=True, \n",
    "    num_workers=NUM_WORKERS,\n",
    ")"
   ]
  },
  {
   "cell_type": "code",
   "execution_count": 5,
   "id": "928b163c",
   "metadata": {},
   "outputs": [],
   "source": [
    "# VAL\n",
    "\n",
    "val_dataset = VideoDataset(\n",
    "    root_dir=ROOT_DIR_VAL, \n",
    "    label_map=LABEL_MAP,\n",
    ")\n",
    "\n",
    "val_loader = DataLoader(\n",
    "    dataset=val_dataset, \n",
    "    batch_size=BATCH_SIZE, \n",
    "    shuffle=True, \n",
    "    num_workers=NUM_WORKERS,\n",
    ")"
   ]
  },
  {
   "cell_type": "code",
   "execution_count": 6,
   "id": "3d48b7f6",
   "metadata": {},
   "outputs": [],
   "source": [
    "# TST\n",
    "\n",
    "tst_dataset = VideoDataset(\n",
    "    root_dir=ROOT_DIR_TST, \n",
    "    label_map=LABEL_MAP,\n",
    ")\n",
    "\n",
    "tst_loader = DataLoader(\n",
    "    dataset=tst_dataset, \n",
    "    batch_size=BATCH_SIZE, \n",
    "    shuffle=True, \n",
    "    num_workers=NUM_WORKERS,\n",
    ")"
   ]
  },
  {
   "cell_type": "markdown",
   "id": "eb1b1f11",
   "metadata": {},
   "source": [
    "# Training"
   ]
  },
  {
   "cell_type": "code",
   "execution_count": 7,
   "id": "b5bc7c92",
   "metadata": {},
   "outputs": [
    {
     "name": "stderr",
     "output_type": "stream",
     "text": [
      "Using cache found in /home/work/.cache/torch/hub/facebookresearch_pytorchvideo_main\n"
     ]
    }
   ],
   "source": [
    "kwargs = dict(\n",
    "    hidden=HIDDEN,\n",
    "    dropout=DROPOUT,\n",
    ")\n",
    "\n",
    "model = fight_detection.model.FightDetection(**kwargs)"
   ]
  },
  {
   "cell_type": "code",
   "execution_count": 8,
   "id": "7712e594",
   "metadata": {},
   "outputs": [],
   "source": [
    "kwargs = dict(\n",
    "    model=model,\n",
    "    lr=LEARNING_RATE,\n",
    "    lambda_=LAMBDA_,\n",
    "    threshold=THRESHOLD,\n",
    ")\n",
    "\n",
    "loop = fight_detection.loop.TrainingLoop(**kwargs)"
   ]
  },
  {
   "cell_type": "code",
   "execution_count": null,
   "id": "86c13e06",
   "metadata": {},
   "outputs": [
    {
     "name": "stdout",
     "output_type": "stream",
     "text": [
      "EPOCH 1 START ---->>>>\n"
     ]
    },
    {
     "name": "stderr",
     "output_type": "stream",
     "text": [
      "Epoch 1/100 TRN: 100%|██████████| 400/400 [01:35<00:00,  4.18it/s]\n"
     ]
    },
    {
     "name": "stdout",
     "output_type": "stream",
     "text": [
      "TRN LOSS: 0.6975\n"
     ]
    },
    {
     "name": "stderr",
     "output_type": "stream",
     "text": [
      "Epoch 1/100 VAL: 100%|██████████| 48/48 [00:11<00:00,  4.22it/s]\n"
     ]
    },
    {
     "name": "stdout",
     "output_type": "stream",
     "text": [
      "VAL LOSS: 0.4865\n"
     ]
    },
    {
     "name": "stderr",
     "output_type": "stream",
     "text": [
      "Epoch 1/100 TST: 100%|██████████| 52/52 [00:12<00:00,  4.29it/s]\n"
     ]
    },
    {
     "name": "stdout",
     "output_type": "stream",
     "text": [
      "CURRENT SCORE: 0.9038\tBEST SCORE: 0.0000(0)\n"
     ]
    },
    {
     "name": "stderr",
     "output_type": "stream",
     "text": [
      "Epoch 2/100 TRN: 100%|██████████| 400/400 [01:34<00:00,  4.22it/s]\n"
     ]
    },
    {
     "name": "stdout",
     "output_type": "stream",
     "text": [
      "TRN LOSS: 0.5379\n"
     ]
    },
    {
     "name": "stderr",
     "output_type": "stream",
     "text": [
      "Epoch 2/100 VAL: 100%|██████████| 48/48 [00:11<00:00,  4.02it/s]\n"
     ]
    },
    {
     "name": "stdout",
     "output_type": "stream",
     "text": [
      "VAL LOSS: 0.3799\n"
     ]
    },
    {
     "name": "stderr",
     "output_type": "stream",
     "text": [
      "Epoch 2/100 TST: 100%|██████████| 52/52 [00:12<00:00,  4.04it/s]\n"
     ]
    },
    {
     "name": "stdout",
     "output_type": "stream",
     "text": [
      "CURRENT SCORE: 0.9519\tBEST SCORE: 0.9038(1)\n"
     ]
    },
    {
     "name": "stderr",
     "output_type": "stream",
     "text": [
      "Epoch 3/100 TRN: 100%|██████████| 400/400 [01:35<00:00,  4.21it/s]\n"
     ]
    },
    {
     "name": "stdout",
     "output_type": "stream",
     "text": [
      "TRN LOSS: 0.4365\n"
     ]
    },
    {
     "name": "stderr",
     "output_type": "stream",
     "text": [
      "Epoch 3/100 VAL: 100%|██████████| 48/48 [00:11<00:00,  4.26it/s]\n"
     ]
    },
    {
     "name": "stdout",
     "output_type": "stream",
     "text": [
      "VAL LOSS: 0.3387\n"
     ]
    },
    {
     "name": "stderr",
     "output_type": "stream",
     "text": [
      "Epoch 3/100 TST: 100%|██████████| 52/52 [00:14<00:00,  3.68it/s]\n"
     ]
    },
    {
     "name": "stdout",
     "output_type": "stream",
     "text": [
      "CURRENT SCORE: 0.9038\tBEST SCORE: 0.9519(2)\n"
     ]
    },
    {
     "name": "stderr",
     "output_type": "stream",
     "text": [
      "Epoch 4/100 TRN: 100%|██████████| 400/400 [01:35<00:00,  4.19it/s]\n"
     ]
    },
    {
     "name": "stdout",
     "output_type": "stream",
     "text": [
      "TRN LOSS: 0.4402\n"
     ]
    },
    {
     "name": "stderr",
     "output_type": "stream",
     "text": [
      "Epoch 4/100 VAL: 100%|██████████| 48/48 [00:11<00:00,  4.25it/s]\n"
     ]
    },
    {
     "name": "stdout",
     "output_type": "stream",
     "text": [
      "VAL LOSS: 0.3459\n"
     ]
    },
    {
     "name": "stderr",
     "output_type": "stream",
     "text": [
      "Epoch 4/100 TST: 100%|██████████| 52/52 [00:11<00:00,  4.40it/s]\n"
     ]
    },
    {
     "name": "stdout",
     "output_type": "stream",
     "text": [
      "CURRENT SCORE: 0.9038\tBEST SCORE: 0.9519(2)\n"
     ]
    },
    {
     "name": "stderr",
     "output_type": "stream",
     "text": [
      "Epoch 5/100 TRN: 100%|██████████| 400/400 [01:35<00:00,  4.21it/s]\n"
     ]
    },
    {
     "name": "stdout",
     "output_type": "stream",
     "text": [
      "TRN LOSS: 0.4336\n"
     ]
    },
    {
     "name": "stderr",
     "output_type": "stream",
     "text": [
      "Epoch 5/100 VAL: 100%|██████████| 48/48 [00:11<00:00,  4.20it/s]\n"
     ]
    },
    {
     "name": "stdout",
     "output_type": "stream",
     "text": [
      "VAL LOSS: 0.3308\n"
     ]
    },
    {
     "name": "stderr",
     "output_type": "stream",
     "text": [
      "Epoch 5/100 TST: 100%|██████████| 52/52 [00:12<00:00,  4.24it/s]\n"
     ]
    },
    {
     "name": "stdout",
     "output_type": "stream",
     "text": [
      "CURRENT SCORE: 0.8750\tBEST SCORE: 0.9519(2)\n"
     ]
    },
    {
     "name": "stderr",
     "output_type": "stream",
     "text": [
      "Epoch 6/100 TRN: 100%|██████████| 400/400 [01:35<00:00,  4.21it/s]\n"
     ]
    },
    {
     "name": "stdout",
     "output_type": "stream",
     "text": [
      "TRN LOSS: 0.4304\n"
     ]
    },
    {
     "name": "stderr",
     "output_type": "stream",
     "text": [
      "Epoch 6/100 VAL: 100%|██████████| 48/48 [00:11<00:00,  4.27it/s]\n"
     ]
    },
    {
     "name": "stdout",
     "output_type": "stream",
     "text": [
      "VAL LOSS: 0.3394\n"
     ]
    },
    {
     "name": "stderr",
     "output_type": "stream",
     "text": [
      "Epoch 6/100 TST: 100%|██████████| 52/52 [00:11<00:00,  4.63it/s]\n"
     ]
    },
    {
     "name": "stdout",
     "output_type": "stream",
     "text": [
      "CURRENT SCORE: 0.8558\tBEST SCORE: 0.9519(2)\n"
     ]
    },
    {
     "name": "stderr",
     "output_type": "stream",
     "text": [
      "Epoch 7/100 TRN:   2%|▏         | 7/400 [00:02<01:43,  3.81it/s]"
     ]
    }
   ],
   "source": [
    "kwargs = dict(\n",
    "    trn_loader=trn_loader,\n",
    "    val_loader=val_loader,\n",
    "    tst_loader=tst_loader,\n",
    "    n_epochs=N_EPOCHS,\n",
    "    patience=PATIENCE,\n",
    "    delta=DELTA,\n",
    ")\n",
    "\n",
    "history = loop.fit(**kwargs)"
   ]
  },
  {
   "cell_type": "markdown",
   "id": "6a026181",
   "metadata": {},
   "source": [
    "# Save"
   ]
  },
  {
   "cell_type": "code",
   "execution_count": null,
   "id": "78c1bdff",
   "metadata": {},
   "outputs": [],
   "source": [
    "PATH = f'./checkpoint/{MODEL_NAME}.pth'\n",
    "\n",
    "kwargs = dict(\n",
    "    model=loop.model,\n",
    "    path=PATH,\n",
    ")\n",
    "\n",
    "utils.checkpoint.save(**kwargs)"
   ]
  }
 ],
 "metadata": {
  "kernelspec": {
   "display_name": "Python 3",
   "language": "python",
   "name": "python3"
  },
  "language_info": {
   "codemirror_mode": {
    "name": "ipython",
    "version": 3
   },
   "file_extension": ".py",
   "mimetype": "text/x-python",
   "name": "python",
   "nbconvert_exporter": "python",
   "pygments_lexer": "ipython3",
   "version": "3.10.12"
  }
 },
 "nbformat": 4,
 "nbformat_minor": 5
}
